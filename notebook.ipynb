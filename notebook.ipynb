{
 "cells": [
  {
   "cell_type": "code",
   "execution_count": 1,
   "metadata": {},
   "outputs": [],
   "source": [
    "import cv2\n",
    "from mtcnn import MTCNN\n",
    "import matplotlib.pyplot as plt\n",
    "import cv2\n",
    "from ultralytics import YOLO\n",
    "import cv2\n",
    "import numpy as np"
   ]
  },
  {
   "cell_type": "code",
   "execution_count": null,
   "metadata": {},
   "outputs": [],
   "source": []
  },
  {
   "cell_type": "markdown",
   "metadata": {},
   "source": [
    "# For Images"
   ]
  },
  {
   "cell_type": "code",
   "execution_count": 2,
   "metadata": {},
   "outputs": [],
   "source": [
    "# Load the MTCNN model\n",
    "detector = MTCNN()\n",
    "# Load the model\n",
    "model = YOLO('yolov8s.pt')\n",
    "# Load an image\n",
    "image_path = r\"C:\\Users\\karim\\Desktop\\image (2).jpg\"\n",
    "image = cv2.imread(image_path)\n",
    "\n"
   ]
  },
  {
   "cell_type": "code",
   "execution_count": 3,
   "metadata": {},
   "outputs": [],
   "source": [
    "def resize_image_and_adjust_coordinates(image, bounding_boxes, left_eye, right_eye, target_width=None, target_height=None):\n",
    "    original_height, original_width = image.shape[:2]\n",
    "    if target_width is not None and target_height is not None:\n",
    "        scaling_factor = min(target_width / original_width, target_height / original_height)\n",
    "    elif target_width is not None:\n",
    "        scaling_factor = target_width / original_width\n",
    "    elif target_height is not None:\n",
    "        scaling_factor = target_height / original_height\n",
    "    else:\n",
    "        raise ValueError(\"Either target_width or target_height must be provided.\")\n",
    "    \n",
    "    new_width = int(original_width * scaling_factor)\n",
    "    new_height = int(original_height * scaling_factor)\n",
    "    resized_image = cv2.resize(image, (new_width, new_height))\n",
    "    adjusted_bounding_boxes = [(int(x1 * scaling_factor), int(y1 * scaling_factor), int(x2 * scaling_factor), int(y2 * scaling_factor)) for (x1, y1, x2, y2) in bounding_boxes]\n",
    "    adjusted_left = [int(x * scaling_factor) for x in left_eye]\n",
    "    adjusted_right = [int(x * scaling_factor) for x in right_eye]\n",
    "    return resized_image, adjusted_bounding_boxes, adjusted_left, adjusted_right\n",
    "\n",
    "def draw_bounding_boxes(results, image, left_eye, right_eye, target_width):\n",
    "    for result in results:\n",
    "        boxes = result.boxes.xyxy.cpu().numpy()  # Extract bounding boxes in (x1, y1, x2, y2) format\n",
    "        confidences = result.boxes.conf.cpu().numpy()  # Extract confidence scores\n",
    "        class_ids = result.boxes.cls.cpu().numpy()  # Extract class IDs\n",
    "        resized_image, adjusted_bounding_boxes, adjusted_left, adjusted_right = resize_image_and_adjust_coordinates(image, boxes, left_eye, right_eye, target_width=target_width)\n",
    "        for box, confidence, class_id in zip(adjusted_bounding_boxes, confidences, class_ids):\n",
    "            if int(class_id) == 0:  # Assuming Class ID 0 corresponds to 'person'\n",
    "                x1, y1, x2, y2 = map(int, box)\n",
    "                for left_, right_ in zip(adjusted_left, adjusted_right):\n",
    "                    if left_ > x1 and right_ < x2:\n",
    "                        cv2.rectangle(resized_image, (x1, y1), (x2, y2), (0, 255, 0), 2)\n",
    "                        height = 6.5 * (y2 - y1 + 10) / (right_ - left_ + 1) + 20\n",
    "                        cv2.putText(resized_image, f'{height:.2f}', (x1, y1 - 10), cv2.FONT_HERSHEY_SIMPLEX, 1, (0, 0, 0), 3)\n",
    "    return resized_image"
   ]
  },
  {
   "cell_type": "code",
   "execution_count": 4,
   "metadata": {},
   "outputs": [
    {
     "name": "stdout",
     "output_type": "stream",
     "text": [
      "\u001b[1m1/1\u001b[0m \u001b[32m━━━━━━━━━━━━━━━━━━━━\u001b[0m\u001b[37m\u001b[0m \u001b[1m0s\u001b[0m 330ms/step\n",
      "\u001b[1m1/1\u001b[0m \u001b[32m━━━━━━━━━━━━━━━━━━━━\u001b[0m\u001b[37m\u001b[0m \u001b[1m0s\u001b[0m 214ms/step\n",
      "\u001b[1m1/1\u001b[0m \u001b[32m━━━━━━━━━━━━━━━━━━━━\u001b[0m\u001b[37m\u001b[0m \u001b[1m0s\u001b[0m 73ms/step\n",
      "\u001b[1m1/1\u001b[0m \u001b[32m━━━━━━━━━━━━━━━━━━━━\u001b[0m\u001b[37m\u001b[0m \u001b[1m0s\u001b[0m 50ms/step\n",
      "\u001b[1m1/1\u001b[0m \u001b[32m━━━━━━━━━━━━━━━━━━━━\u001b[0m\u001b[37m\u001b[0m \u001b[1m0s\u001b[0m 38ms/step\n",
      "\u001b[1m1/1\u001b[0m \u001b[32m━━━━━━━━━━━━━━━━━━━━\u001b[0m\u001b[37m\u001b[0m \u001b[1m0s\u001b[0m 32ms/step\n",
      "\u001b[1m1/1\u001b[0m \u001b[32m━━━━━━━━━━━━━━━━━━━━\u001b[0m\u001b[37m\u001b[0m \u001b[1m0s\u001b[0m 32ms/step\n",
      "\u001b[1m1/1\u001b[0m \u001b[32m━━━━━━━━━━━━━━━━━━━━\u001b[0m\u001b[37m\u001b[0m \u001b[1m0s\u001b[0m 31ms/step\n",
      "\u001b[1m1/1\u001b[0m \u001b[32m━━━━━━━━━━━━━━━━━━━━\u001b[0m\u001b[37m\u001b[0m \u001b[1m0s\u001b[0m 30ms/step\n",
      "\u001b[1m1/1\u001b[0m \u001b[32m━━━━━━━━━━━━━━━━━━━━\u001b[0m\u001b[37m\u001b[0m \u001b[1m0s\u001b[0m 36ms/step\n",
      "\u001b[1m1/1\u001b[0m \u001b[32m━━━━━━━━━━━━━━━━━━━━\u001b[0m\u001b[37m\u001b[0m \u001b[1m0s\u001b[0m 31ms/step\n",
      "\u001b[1m1/1\u001b[0m \u001b[32m━━━━━━━━━━━━━━━━━━━━\u001b[0m\u001b[37m\u001b[0m \u001b[1m0s\u001b[0m 32ms/step\n",
      "\u001b[1m23/23\u001b[0m \u001b[32m━━━━━━━━━━━━━━━━━━━━\u001b[0m\u001b[37m\u001b[0m \u001b[1m0s\u001b[0m 12ms/step\n",
      "\u001b[1m2/2\u001b[0m \u001b[32m━━━━━━━━━━━━━━━━━━━━\u001b[0m\u001b[37m\u001b[0m \u001b[1m0s\u001b[0m 159ms/step\n",
      "\n",
      "0: 384x640 4 persons, 1 sports ball, 542.1ms\n",
      "Speed: 4.0ms preprocess, 542.1ms inference, 4.1ms postprocess per image at shape (1, 3, 384, 640)\n"
     ]
    }
   ],
   "source": [
    "image = cv2.cvtColor(image, cv2.COLOR_BGR2RGB)\n",
    "faces = detector.detect_faces(image)\n",
    "image = cv2.cvtColor(image, cv2.COLOR_BGR2RGB)\n",
    "min_confidence = 0.85\n",
    "target_width = 800\n",
    "left_eye = []\n",
    "right_eye = []\n",
    "draw_image = image.copy()\n",
    "# Loop through detected faces\n",
    "for face in faces:\n",
    "    if face['confidence'] >= min_confidence:\n",
    "        keypoints = face['keypoints']\n",
    "        left_eye.append(keypoints['left_eye'][0])\n",
    "        right_eye.append(keypoints['right_eye'][0])\n",
    "# Function to resize image and adjust coordinates\n",
    "\n",
    "results = model(image)  # Assume you have a model function for detection\n",
    "processed_frame = draw_bounding_boxes(results, image, left_eye, right_eye, target_width)\n",
    "\n",
    "# Display the processed frame\n",
    "cv2.imshow('Processed Image', processed_frame)\n",
    "cv2.waitKey(0)\n",
    "cv2.destroyAllWindows()\n"
   ]
  },
  {
   "cell_type": "markdown",
   "metadata": {},
   "source": [
    "# For Videos"
   ]
  },
  {
   "cell_type": "code",
   "execution_count": null,
   "metadata": {},
   "outputs": [],
   "source": [
    "import cv2\n",
    "\n",
    "# Initialize video capture (0 for default camera, or provide the path to your video file)\n",
    "cap = cv2.VideoCapture(0)  # or cv2.VideoCapture('path_to_your_video.mp4')\n",
    "\n",
    "min_confidence = 0.85\n",
    "target_width = 800  # Example target width for display\n",
    "save = False\n",
    "# Define the video codec and create a VideoWriter object to save the processed video (optional)\n",
    "if save:\n",
    "    fourcc = cv2.VideoWriter_fourcc(*'XVID')\n",
    "    out = cv2.VideoWriter('output.avi', fourcc, 20.0, (640, 480))\n",
    "\n",
    "while cap.isOpened():\n",
    "    ret, frame = cap.read()\n",
    "    if not ret:\n",
    "        break\n",
    "    \n",
    "    # Convert frame to RGB\n",
    "    frame_rgb = cv2.cvtColor(frame, cv2.COLOR_BGR2RGB)\n",
    "    \n",
    "    # Detect faces in the frame\n",
    "    faces = detector.detect_faces(frame_rgb)\n",
    "    \n",
    "    left_eye = []\n",
    "    right_eye = []\n",
    "    \n",
    "    for face in faces:\n",
    "        if face['confidence'] >= min_confidence:\n",
    "            keypoints = face['keypoints']\n",
    "            left_eye.append(keypoints['left_eye'][0])\n",
    "            right_eye.append(keypoints['right_eye'][0])\n",
    "    \n",
    "    # Process the frame and draw bounding boxes\n",
    "    results = model(frame_rgb)  # Assume you have a model function for detection\n",
    "    processed_frame = draw_bounding_boxes(results, frame, left_eye, right_eye, target_width)\n",
    "    \n",
    "    # Display the processed frame\n",
    "    cv2.imshow('Processed Video', processed_frame)\n",
    "    \n",
    "    # Write the processed frame to the output video file (optional)\n",
    "    if save:\n",
    "        out.write(processed_frame)\n",
    "    \n",
    "    # Break the loop if 'q' key is pressed\n",
    "    if cv2.waitKey(1) & 0xFF == ord('q'):\n",
    "        break\n",
    "\n",
    "# Release video capture and writer objects\n",
    "cap.release()\n",
    "out.release()\n",
    "cv2.destroyAllWindows()\n"
   ]
  }
 ],
 "metadata": {
  "kernelspec": {
   "display_name": "base",
   "language": "python",
   "name": "python3"
  },
  "language_info": {
   "codemirror_mode": {
    "name": "ipython",
    "version": 3
   },
   "file_extension": ".py",
   "mimetype": "text/x-python",
   "name": "python",
   "nbconvert_exporter": "python",
   "pygments_lexer": "ipython3",
   "version": "3.11.7"
  }
 },
 "nbformat": 4,
 "nbformat_minor": 2
}
